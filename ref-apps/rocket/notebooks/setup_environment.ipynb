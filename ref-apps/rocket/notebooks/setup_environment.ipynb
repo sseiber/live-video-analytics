{
 "cells": [
  {
   "cell_type": "markdown",
   "metadata": {
    "collapsed": true
   },
   "source": [
    "# Setting Up the Specific Environment\n",
    "In this section, we will be creating environmental variables specific to Rocket."
   ]
  },
  {
   "cell_type": "markdown",
   "metadata": {},
   "source": [
    "## Get Global Variables"
   ]
  },
  {
   "cell_type": "code",
   "execution_count": null,
   "metadata": {},
   "outputs": [],
   "source": [
    "import sys\n",
    "sys.path.append('../../../utilities/video-analysis/notebooks/common')\n",
    "\n",
    "from env_variables import *"
   ]
  },
  {
   "cell_type": "markdown",
   "metadata": {},
   "source": [
    "Verify that the VM type is available in your region. You may view this page for a full list of VMs by region.\n",
    "\n",
    "For this sample, we will be using a Standard_NC6 (GPU tier) VM."
   ]
  },
  {
   "cell_type": "code",
   "execution_count": null,
   "metadata": {},
   "outputs": [],
   "source": [
    "vm_type = \"Standard_NC6\" #GPU tier VM\n",
    "set_key(envPath, \"VM_TYPE\", vm_type)"
   ]
  },
  {
   "cell_type": "markdown",
   "metadata": {},
   "source": [
    "Please continue with **step 4** of the Getting Started section in the [readme.md](../readme.md)."
   ]
  }
 ],
 "metadata": {
  "jupytext": {
   "cell_metadata_filter": "-all",
   "main_language": "python"
  },
  "kernelspec": {
   "display_name": "",
   "language": "",
   "name": ""
  }
 },
 "nbformat": 4,
 "nbformat_minor": 2
}