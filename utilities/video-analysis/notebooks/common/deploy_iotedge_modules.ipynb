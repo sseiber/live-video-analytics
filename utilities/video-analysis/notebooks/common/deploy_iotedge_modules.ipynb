{
 "cells": [
  {
   "cell_type": "markdown",
   "metadata": {
    "collapsed": true
   },
   "source": [
    "# Deploy IoT Edge Modules\n",
    "\n",
    "In this section, we will deploy LVA & Inference Server modules (IoT Edge Runtime specific Docker container images) to an IoT Edge device."
   ]
  },
  {
   "cell_type": "markdown",
   "metadata": {},
   "source": [
    "## Setting Up the Deployment Manifest File"
   ]
  },
  {
   "cell_type": "code",
   "execution_count": null,
   "metadata": {},
   "outputs": [],
   "source": [
    "from env_variables import *\n",
    "set_key(envPath, \"INPUT_VIDEO_FOLDER_ON_DEVICE\", \"/lvafolders/input\")\n",
    "tempVar = set_key(envPath, \"OUTPUT_VIDEO_FOLDER_ON_DEVICE\", \"/lvafolders/output\")"
   ]
  },
  {
   "cell_type": "markdown",
   "metadata": {},
   "source": [
    "## Setting Up Local Folders on the IoT Edge Device\n",
    "Next, we will set up local folders on our IoT Edge device. First, connect to the Iot Edge device in a terminal window and create the two folders below on the IoT Edge device. You can give these folders any name and create them under any desired root folder. However, the full path must be same in the other parts of this section. Both folders must have read and write access for all users.\n",
    "\n",
    "Run the commands below **on the IoT Edge device** through a terminal window.\n",
    "\n",
    "```\n",
    "sudo mkdir -p /lvafolders/input\n",
    "sudo mkdir /lvafolders/output\n",
    "```\n",
    "\n",
    "Next, set the access permissions for these folders.\n",
    "```\n",
    "sudo chmod 777 -R /lvafolders\n",
    "```\n",
    "\n",
    "Afterwards, in your IoT Edge device's terminal window, run the following command to download the video sample named `lots_284.mkv` into your /lvafolders/input folder. This video sample is a minute-long clip of a parking lot. If you wish to run another video clip, simply move it into the /lvafolders/input folder.\n",
    "\n",
    "```\n",
    "curl https://lvamedia.blob.core.windows.net/public/lots_284.mkv --output /lvafolders/input/lots_284.mkv\n",
    "```\n",
    "\n",
    "Finally, set the access permissions again for safe measure.  \n",
    "```\n",
    "sudo chmod 777 -R /lvafolders\n",
    "```"
   ]
  },
  {
   "cell_type": "markdown",
   "metadata": {},
   "source": [
    "## Key Concepts\n",
    "In the first part of this section, we will write a manifest file in Json format and specify the details of the modules (IoT Edge Runtime specific Docker container images) that will be deployed into the Edge device. We will use the [deployment.lva_common.template.json](deployment.lva_common.template.json) manifest file as a template for module deployment. The manifest is organized like the following image:  \n",
    "\n",
    "<img src=\"../../../../images/_deployment_modules_0.png\" width=300px/>  \n",
    "\n",
    "As shown in the image above, branch 2 of the Json file defines the system modules to be deployed onto the Edge device. These two system modules (edgeAgent, edgeHub) are necessary modules in each IoT Edge device. In branch 3 of the Json file, we define the custom modules that we want to deploy to the edge device.  \n",
    "The three custom modules in branch 3 of the Json file are as follows: \n",
    "* lvaEdge - node where we define the lvaEdge-specific details, such as from which Container Registry address it should be downloaded. (You may use other reference names, but the name must be consistent in other locations within the manifest file or in any other related code.)\n",
    "* lvaExtension - the reference name we gave for our inference server module that we developed and uploaded into ACR.\n",
    "* rtspsim - the reference name given to another container image in ACR. This module simulates an IP camera by playing a user-defined video file as if it were being streamed from an IP camera. This module is optional and placed here to aid users who don't have an IP camera but still want to test LVA.\n",
    "\n",
    "For more details about IoT Edge modules, refer to [Azure IoT Edge documentation](https://docs.microsoft.com/en-us/azure/iot-edge/about-iot-edge).\n",
    "\n",
    "If you check the contents of the template manifest file, you will see placeholders that start with the character $. \n",
    "\n",
    "| **Placeholder** | **Description** | \n",
    "| --- | --- | \n",
    "| CONTAINER_REGISTRY_USERNAME_myacr | The username that Azure Container Registry (ACR) will use to authenticate with the registry.<br>ACR is a registry of Docker and Open Container Initiative (OCI) images.| \n",
    "| CONTAINER_REGISTRY_PASSWORD_myacr | The password that Azure Container Registry (ACR) will use to authenticate with the registry.<br>When run, a Active Directory token is created to authenticate your session with the container registry.| \n",
    "| CONTAINER_IMAGE_NAME | The name of the container image that will be used for deployment.<br>Once uploaded to ACR, it can be called through CONTAINER_REGISTRY_USERNAME_myacr.azurecr.io/CONTAINER_IMAGE_NAME. |\n",
    "| SUBSCRIPTION_ID | The ID associated with your Azure subscription, typically containing dashes within the string.<br>A subscription represents a grouping of Azure resources. An invoice is generated at the subscription scope. | \n",
    "| RESOURCE_GROUP | The name of the resource group that holds your resources.<br>A resource group is a container that holds related resources for an Azure solution. | \n",
    "| AMS_ACCOUNT | The name of your Azure Media Services (AMS) resource.<br>AMS is a cloud-based media workflow platform to index, package, protect, and stream video. |\n",
    "| AAD_TENANT_ID | The Azure Active Directory (AAD) tenant ID, which is used as a reference to a directory.<br>An AAD directory object holds security-related objects such as user accounts, applications, and groups.| \n",
    "| AAD_SERVICE_PRINCIPAL_ID | The ID associated with the AAD's service principal.<br>A service principal is a security identity used by user-created apps, services, and tools to access Azure resources. | \n",
    "| AAD_SERVICE_PRINCIPAL_SECRET | A secret string associated with the AAD's service principal.<br>The AAD service principal secret adds a layer of security at the service principal scope. | \n",
    "| INPUT_VIDEO_FOLDER_ON_DEVICE | The path pointing to the folder in which the desired input video is stored.<br>This path must be specified in order for LVA to find the correct videos to process. | \n",
    "| OUTPUT_VIDEO_FOLDER_ON_DEVICE | The path pointing to the folder in which the processed video output will be stored.<br>After processing is complete, the processed video will be sent and stored in this folder. | \n",
    "\n",
    "In the [previous section](upload_container_image_to_acr.ipynb), we pushed our inference server container image to the cloud using Azure Container Registry (ACR). In doing so, ACR created a .env file containing the credentials to your container registry. These credentials are shared with your IoT Edge device so that it has access to pull the container image.\n",
    "\n",
    "We will use the credentials found in the .env file to create an IoT Edge device module deployment manifest file in Json format. The credentials found in the .env file will replace the placeholders we set in our template [deployment.lva_common.template.json](deployment.lva_common.template.json) manifest file.\n",
    "\n",
    "How does this work? The deployment manifest file is a file that defines exactly which modules you want deployed on a device, how they should be configured, and how they can communicate with each other and the Cloud. When you transform the template into a true deployment manifest, the placeholders in the table above are replaced with values taken from other solution files. Credentials placed in this file are then shared with the IoT Edge runtime to pull your container images onto the IoT Edge device. This configuration is for security purposes, as the .env file is git ignored but the deployment template is not. You should double check by opening the .env file and confirming that your credentials are included. If not, add them manually by locating the appropriate services on Azure and save the .env file."
   ]
  },
  {
   "cell_type": "markdown",
   "metadata": {},
   "source": [
    "## Reset the IoT Edge Device and Deploy the LVA & Inference Server Modules\n",
    "\n",
    "Next, we will reset the IoT Edge device by uploading a deployment manifest that consists of only two system modules: IoTHub and IoTEdge.\n",
    "\n",
    "1. Right click on the \"deployment.reset.json\" file  \n",
    "\n",
    "    <img src=\"../../../../images/_deployment_reset.jpg\" width=500px/>  \n",
    "\n",
    "2. Click on \"Create Deployment for Single Device\"  \n",
    "    a. If it is the first time using the IoT Hub service that was created in the previous sections, VSCode will ask you to enter the \"IoT Hub Connection String\". You can use the value of the \"IOT_HUB_CONN_STRING\" key, which can be located in the .env file. This command will open a window on top edge of the VSCode and will ask for the IoT Edge device name that you want to use make this deployment. Since you entered the IoT Hub connection string, it will automatically find names of applicable devices and list them for you. For this section, we only have one Edge device, which we named \"lva-sample-device\" when we defined the variables. Select this device in the drop-down list.\n",
    "\n",
    "    <img src=\"../../../../images/_select_edge_device.png\" width=500px/>  \n",
    "\n",
    "    b. If you already have a connected IoT Hub in VS Code Azure IoT Hub service, and would like to switch to a different IoT Hub to deploy LVA, you can click \"More Actions\" on the \"AZURE IOT HUB\" panel, and enter your \"IOT_HUB_CONN_STRING\" key.\n",
    "\n",
    "    <img src=\"../../../../images/_deployment_set_iothub.png\" width=500px/>  \n",
    "\n",
    "3. Locate the deployment manifest that you created in previous sections. Note that the name of this file may be different from the one listed below, depending on the sample you are running. Right click on the deployment manifest file. In the pop-up menu, click on \"Generate IoT Edge Deployment Manifest\". In this step, VSCode will auto-read the contents of the .env file and use the values of the variables to write over some placeholder variables inside the file. After these replacements, a new version of the file will be placed under the newly created \"config\" folder in the same working directory.  \n",
    "\n",
    "    <img src=\"../../../../images/_deployment_modules_1.jpg\" width=600px/>  \n",
    "\n",
    "4. Right click on the file in the config folder. Note that its name may be different from the one below, depending on the sample you are running. In the pop-up menu, click on \"Create Deployment for Single Device\".  \n",
    "\n",
    "    <img src=\"../../../../images/_deployment_modules_2.jpg\" width=600px/>  \n",
    "\n",
    "5. Like in step 2, VSCode will ask the device name to where the deployment will be made. Again, select the appropriate device name.\n",
    "\n",
    "6. Depending on your Internet speed, the modules will be pulled from the Cloud and deployed into your Edge device; this process can range from seconds to minutes. In VSCode, refresh the \"AZURE IOT HUB\" panel. You can see the modules that are uploaded on to your Edge device once the refresh is complete.  \n",
    "\n",
    "    <img src=\"../../../../images/_iotedgedevice_view.jpg\" width=400px/>  \n",
    "\n",
    "\n",
    "As in the screen shot above, you should see a status of \"running\" next to each module name (see region 3 in the above screenshot).  \n",
    "\n",
    "Alternatively, you can run the following command in a terminal window on the Iot Edge device:  \n",
    "\n",
    "```\n",
    "sudo iotedge list\n",
    "```\n",
    "\n",
    "The result of the command above will look something similar to the snippet below, with all module statuses saying \"running\".\n",
    "\n",
    "```\n",
    "user@iotedgedevice:~/Desktop/subfolder$ sudo iotedge list\n",
    "[sudo] password for user: \n",
    "NAME             STATUS           DESCRIPTION      CONFIG\n",
    "lvaExtension     running          Up 6 minutes     namecontreg.azurecr.io/nameaimodule:latest\n",
    "edgeAgent        running          Up 7 minutes     mcr.microsoft.com/azureiotedge-agent:1.0\n",
    "edgeHub          running          Up 6 minutes     mcr.microsoft.com/azureiotedge-hub:1.0\n",
    "lvaEdge          running          Up 6 minutes     mcr.microsoft.com/media/live-video-analytics:1\n",
    "rtspsim          running          Up 6 minutes     mcr.microsoft.com/lva-utilities/rtspsim-live555:1.2\n",
    "```"
   ]
  },
  {
   "cell_type": "markdown",
   "metadata": {},
   "source": [
    "## Troubleshooting\n",
    "\n",
    "If any of the modules are not running after a few minutes, you can try the following commands:\n",
    "\n",
    "1) Check IoT Edge\n",
    "\n",
    "```\n",
    "sudo iotedge check \n",
    "```\n",
    "\n",
    "2) Restart IoT Edge and wait a few minutes\n",
    "\n",
    "```\n",
    "sudo systemctl restart iotedge\n",
    "```\n",
    "\n",
    "3) Check the logs of your devices (e.g., lvaExtension, lvaEdge)\n",
    "\n",
    "```\n",
    "sudo iotedge logs <NAME_OF_DEVICE>\n",
    "```\n",
    "\n",
    "These commands are relevant for the following sections as well.\n",
    "\n",
    "If all the modules are running, you have succesfully deployed the modules into the IoT Edge device."
   ]
  },
  {
   "cell_type": "markdown",
   "metadata": {},
   "source": [
    "## Next Steps\n",
    "If all the code cells above have successfully finished running, return to the Readme page to continue.   "
   ]
  }
 ],
 "metadata": {
  "kernelspec": {
   "display_name": "Python 3",
   "language": "python",
   "name": "python3"
  },
  "language_info": {
   "codemirror_mode": {
    "name": "ipython",
    "version": 3
   },
   "file_extension": ".py",
   "mimetype": "text/x-python",
   "name": "python",
   "nbconvert_exporter": "python",
   "pygments_lexer": "ipython3",
   "version": "3.8.3"
  }
 },
 "nbformat": 4,
 "nbformat_minor": 2
}
