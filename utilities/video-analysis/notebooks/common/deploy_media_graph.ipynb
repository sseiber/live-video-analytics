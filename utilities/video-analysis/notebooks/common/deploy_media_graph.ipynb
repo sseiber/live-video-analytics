{
 "cells": [
  {
   "cell_type": "markdown",
   "metadata": {
    "collapsed": true
   },
   "source": [
    "# Deploy Media Graph\n",
    "\n",
    "In this section, we will deploy media graphs onto our IoT Edge device to trigger our modules to perform certain actions."
   ]
  },
  {
   "cell_type": "markdown",
   "metadata": {},
   "source": [
    "## Deploy / Manage Media Graph on LVA Edge Module\n",
    "At this stage of the sample, we should have all required modules deployed to the Edge device, up and running.  \n",
    "\n",
    "Now we will deploy media graphs onto the \"lvaEdge\" module. Here, \"lvaEdge\" is the name that we assigned to the LVA module inside the module deployment template json file from the [previous sample](deploy_iotedge_modules.ipynb). Media graph is also a Json file that defines a media flow pipeline from media sources to the target sinks and any analytics processes in-between. The media graph file consists of following modules:  \n",
    "\n",
    "```\n",
    "{\n",
    "    \"@apiVersion\": \"2.0\",\n",
    "\n",
    "    \"name\": \"SampleMediaGraphOrganization\",\n",
    "\n",
    "    \"properties\":{\n",
    "\n",
    "        \"parameters\": ...\n",
    "\n",
    "        \"sources\": ...\n",
    "\n",
    "        \"processes\": ...\n",
    "\n",
    "        \"sinks\": ...\n",
    "    }\n",
    "}\n",
    "```\n",
    "\n",
    "In the media graph Json file above, the \"parameters\" section defines default values of all required parameters to run the media graph. In this section, we will define the addresses of the media sources, their access credentials, and the customized parameters (to override the default values) related to the process modules, such as fps rate and sensitivity of motion detection. Each media graph may have a different media flow, i.e., one may have a motion detection processor while another may not. You may modify this media graph according to your needs.  "
   ]
  },
  {
   "cell_type": "markdown",
   "metadata": {},
   "source": [
    "### Sample Media Graph\n",
    "We will use a sample media graph file as defined in setup_specific_environment.ipynb under the variable `topologyFile`. For details about the functionality of this sample media graph, you can check the details in the readme file in the same folder as `topologyFile`. You can also find more media graph samples under the MediaGraph/topologies/ folder.   \n",
    "\n",
    "For more, refer to [details about LVA media graphs](https://docs.microsoft.com/en-us/azure/media-services/live-video-analytics-edge/media-graph-concept). "
   ]
  },
  {
   "cell_type": "markdown",
   "metadata": {},
   "source": [
    "### Setting Parameters in Media Graph\n",
    "There are two ways to set parameters in the media graph:  \n",
    "\n",
    "1. Update the default values of the parameters in \"template.json\", which is **not** the preferred method. \n",
    "2. Note the parameter names and data types in \"template.json\", and set their values in the deployment command that we will show in the next section."
   ]
  },
  {
   "cell_type": "markdown",
   "metadata": {},
   "source": [
    "### Deploy the Media Graph with Custom Parameters\n",
    "Below, we will explain the following operations:\n",
    "\n",
    "1. Setting (deploying) Media Graph Topology on the IoT Edge Device's lvaEdge module\n",
    "2. Creating a Media Topology Instance from the one set in step 1\n",
    "3. Activate the Topology Instance that set in step 2"
   ]
  },
  {
   "cell_type": "markdown",
   "metadata": {},
   "source": [
    "## Import A Helper Python Class to Deploy Media Graphs\n",
    "The following code snippet will import a custom Python class to help us manage media graphs. After the import, we will instantiate a graph manager object with IoT Hub, IoT Edge Device, and Graph API version details."
   ]
  },
  {
   "cell_type": "code",
   "execution_count": null,
   "metadata": {},
   "outputs": [],
   "source": [
    "import sys\n",
    "sys.path.append('../../shared/graph_manager')\n",
    "from graph_manager import GraphManager\n",
    "from env_variables import *\n",
    "\n",
    "moduleId = \"lvaEdge\" # Must be same as the name that we assigned to LVA module in the deployment manifest file\n",
    "operationsApiVersion = \"2.0\"  # Must be same as the version number in the deployment manifest file\n",
    "\n",
    "graphManager = GraphManager(iotHubConnString, iotDeviceId, moduleId, operationsApiVersion)"
   ]
  },
  {
   "cell_type": "markdown",
   "metadata": {},
   "source": [
    "## List Existing Graph Topologies and Instances\n"
   ]
  },
  {
   "cell_type": "code",
   "execution_count": null,
   "metadata": {
    "tags": []
   },
   "outputs": [],
   "source": [
    "# List topologies\n",
    "response = graphManager.GenericCall(\"GraphTopologyList\", {})\n",
    "print(response)"
   ]
  },
  {
   "cell_type": "code",
   "execution_count": null,
   "metadata": {
    "tags": []
   },
   "outputs": [],
   "source": [
    "# List instances\n",
    "response = graphManager.GenericCall(\"GraphInstanceList\", {})\n",
    "print(response)"
   ]
  },
  {
   "cell_type": "markdown",
   "metadata": {},
   "source": [
    "## Set Topology\n",
    "The following code snippet will deploy the \"template.json\" file into the lvaEdge module running on our IoT Edge device. The name of the topology file and other media graph related parameters must be set before in section named **\"Setup the sample specific environment\"**  "
   ]
  },
  {
   "cell_type": "code",
   "execution_count": null,
   "metadata": {
    "tags": []
   },
   "outputs": [],
   "source": [
    "# You can define a topologyFile or a topologyUrl that you want to deploy into the module. Here we point to our sample Media Graph Topology File.\n",
    "import os.path\n",
    "\n",
    "topologyFilePath =  os.path.join(\"../../../../MediaGraph/topologies/\", topologyFile)\n",
    "\n",
    "operationParams = {\n",
    "                    \"topologyFile\": topologyFilePath\n",
    "                    }\n",
    "\n",
    "# Set Graph Topology\n",
    "response = graphManager.GraphTopologySet(operationParams)\n",
    "print(response)                    "
   ]
  },
  {
   "cell_type": "markdown",
   "metadata": {},
   "source": [
    "## Set Topology Instance\n",
    "\n",
    "The following code snippet will override and set the sample specific new values of the parameters mentioned in \"template.json\" and will create a Topology Instance."
   ]
  },
  {
   "cell_type": "code",
   "execution_count": null,
   "metadata": {
    "tags": []
   },
   "outputs": [],
   "source": [
    "import json\n",
    "\n",
    "with open(\".media_graph_topology_parameters.json\") as f:\n",
    "    mediaGraphTopologyParameters = json.load(f)\n",
    "\n",
    "# Set topology instance\n",
    "response = graphManager.GenericCall(\"GraphInstanceSet\", mediaGraphTopologyParameters)\n",
    "print(response)    "
   ]
  },
  {
   "cell_type": "markdown",
   "metadata": {},
   "source": [
    "## Activate Topology Instance\n",
    "Next, we activate the Topology Instance that we set in the previous node.\n",
    "\n",
    ">[!IMPORTANT]  \n",
    ">Be sure to set the name parameter below to the exact topology instance name that we used in the previous node."
   ]
  },
  {
   "cell_type": "code",
   "execution_count": null,
   "metadata": {
    "tags": []
   },
   "outputs": [],
   "source": [
    "# Activate topology instance\n",
    "operationParams = {\n",
    "                    \"name\": graphInstanceName\n",
    "                    }\n",
    "\n",
    "response = graphManager.GenericCall(\"GraphInstanceActivate\", operationParams)\n",
    "print(response)"
   ]
  },
  {
   "cell_type": "markdown",
   "metadata": {},
   "source": [
    "## Next Steps\n",
    "\n",
    "If all the code cells above have successfully finished running, return to the Readme page to continue.   "
   ]
  }
 ],
 "metadata": {
  "kernelspec": {
   "display_name": "Python 3",
   "language": "python",
   "name": "python3"
  },
  "language_info": {
   "codemirror_mode": {
    "name": "ipython",
    "version": 3
   },
   "file_extension": ".py",
   "mimetype": "text/x-python",
   "name": "python",
   "nbconvert_exporter": "python",
   "pygments_lexer": "ipython3",
   "version": "3.6.10-final"
  }
 },
 "nbformat": 4,
 "nbformat_minor": 2
}