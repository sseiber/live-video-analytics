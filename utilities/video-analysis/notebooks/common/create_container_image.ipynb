{
  "cells": [
    {
      "metadata": {
        "collapsed": true
      },
      "cell_type": "markdown",
      "source": [
        "# Create a Local Docker Image\n",
        "In this section, we will create an IoT Edge module, a Docker container image from an ML solution."
      ]
    },
    {
      "metadata": {},
      "cell_type": "markdown",
      "source": [
        "## Get Global Variables"
      ]
    },
    {
      "metadata": {
        "trusted": true
      },
      "cell_type": "code",
      "source": [
        "import sys\n",
        "sys.path.append('../../../common')\n",
        "from env_variables import *"
      ],
      "execution_count": null,
      "outputs": []
    },
    {
      "cell_type": "markdown",
      "metadata": {},
      "source": [
        "## Create a Local Docker Image\n",
        "We will create a Docker image locally. We will later host the image in a container registry like Docker Hub, Azure Container Registry, or a local registry.\n",
        "\n",
        "An alternative to this approach is using ACR to compile the image for you in the cloud. For such additional options you may refer to [ACR documentation](https://docs.microsoft.com/en-us/azure/container-registry/container-registry-quickstart-task-cli).\n",
        "\n",
        "To run the following code snippet, you must have the pre-requisities mentioned in [the requirements page](requirements.md). Most notably, we are running the `docker` command without `sudo`.\n",
        "\n",
        "> <span>[!WARNING]</span>\n",
        "> Please ensure that Docker is running before executing the cell below. Execution of the cell below may take several minutes. "
      ]
    },
    {
      "cell_type": "code",
      "execution_count": null,
      "metadata": {
        "tags": []
      },
      "outputs": [],
      "source": [
        "pathSolution = \"../../../../\" + lvaSamplePath + \"/\" + lvaExtensionPath\n",
        "\n",
        "!docker build -t $containerImageName --file $pathSolution/Dockerfile $pathSolution"
      ]
    },
    {
      "cell_type": "markdown",
      "metadata": {},
      "source": [
        "## Next Steps\n",
        "If all the code cells above have successfully finished running, return to the Readme page to continue.   "
      ]
    }
  ],
  "metadata": {
    "kernelspec": {
      "name": "python361064bitconda8556cceeaf8e4a69921fff718f0d698b",
      "display_name": "Python 3.6.10 64-bit (conda)",
      "language": "python"
    },
    "language_info": {
      "mimetype": "text/x-python",
      "nbconvert_exporter": "python",
      "name": "python",
      "pygments_lexer": "ipython3",
      "version": "3.6.10-final",
      "file_extension": ".py",
      "codemirror_mode": {
        "version": 3,
        "name": "ipython"
      }
    }
  },
  "nbformat": 4,
  "nbformat_minor": 2
}