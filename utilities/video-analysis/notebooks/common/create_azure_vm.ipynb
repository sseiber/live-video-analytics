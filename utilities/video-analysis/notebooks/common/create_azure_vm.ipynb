{
 "cells": [
  {
   "cell_type": "markdown",
   "metadata": {},
   "source": [
    "# Create Azure Virtual Machine\n",
    "Recall that in [the previous section](create_azure_services.ipynb), we created an IoT Edge device identity in Azure IoT Hub. In this section, we will be creating and configuring a virtual machine (VM) to act as our IoT Edge device."
   ]
  },
  {
   "cell_type": "markdown",
   "metadata": {},
   "source": [
    "## Get Global Variables"
   ]
  },
  {
   "cell_type": "code",
   "execution_count": null,
   "metadata": {},
   "outputs": [],
   "source": [
    "from env_variables import *\n",
    "resourceTags = \"Owner={} Project=lva\".format(userName)"
   ]
  },
  {
   "cell_type": "markdown",
   "metadata": {},
   "source": [
    "## Check VM Quota\n",
    "\n",
    "Verify that your subscription has enough quota to create your desired VM."
   ]
  },
  {
   "cell_type": "code",
   "execution_count": null,
   "metadata": {},
   "outputs": [],
   "source": [
    "output = !az vm list-sizes --subscription $azureSubscriptionId --location $resourceLocation --output json\n",
    "sizes = ''.join(output)\n",
    "\n",
    "import json\n",
    "jsonDetails = json.loads(sizes)\n",
    "\n",
    "for n in jsonDetails:\n",
    "    if vm_type == n['name']:\n",
    "        neededSpace = n['numberOfCores']\n",
    "        print('\\n' + n['name'])\n",
    "        print(\"Number of Cores Required to Deploy: %s vCPUs\" % neededSpace)"
   ]
  },
  {
   "cell_type": "code",
   "execution_count": null,
   "metadata": {},
   "outputs": [],
   "source": [
    "!az account set --subscription $azureSubscriptionId\n",
    "output = !az vm list-usage --location $resourceLocation --output json\n",
    "output = ''.join(output)"
   ]
  },
  {
   "cell_type": "code",
   "execution_count": null,
   "metadata": {},
   "outputs": [],
   "source": [
    "import json\n",
    "jsonDetails = json.loads(output)\n",
    "\n",
    "needed_size = vm_type.split('_')\n",
    "needed_size = needed_size[1]\n",
    "needed_size = ''.join([i for i in needed_size if not i.isdigit()])\n",
    "\n",
    "quota_remaining = 0\n",
    "for n in jsonDetails:\n",
    "    if (needed_size in n['localName']):\n",
    "        quota_remaining = int(n['limit']) - int(n['currentValue'])\n",
    "        print('\\n' + n['localName'])\n",
    "        print(\"Quota Remaining: %s vCPUs\" % quota_remaining)"
   ]
  },
  {
   "cell_type": "markdown",
   "metadata": {},
   "source": [
    "Check if the quota remaining is greater than the size of the VM you wish to create.\n",
    "\n",
    "If you do not enough quota, you can try any of the following:\n",
    "\n",
    "* [Delete VMs](https://docs.microsoft.com/en-us/powershell/module/azurerm.compute/remove-azurermvm?view=azurermps-6.13.0) that might not be in use to free up quota.\n",
    "* [Increase quota](https://docs.microsoft.com/en-us/azure/azure-portal/supportability/per-vm-quota-requests) limits."
   ]
  },
  {
   "cell_type": "markdown",
   "metadata": {},
   "source": [
    "## Create the Virtual Machine\n",
    "The code snippets below will execute a shell script to create an Ubuntu VM in your Azure subscription. \n",
    "\n",
    "Before starting, we will be setting the parameters to be used for creating the VM. For more details on the process of creating a VM using Azure, see the tutorial on creating a [Linux VM on Azure CLI](https://docs.microsoft.com/en-us/azure/virtual-machines/linux/quick-create-cli) or the tutorial on creating a [Windows VM on Azure CLI](https://docs.microsoft.com/en-us/azure/virtual-machines/windows/quick-create-cli)."
   ]
  },
  {
   "cell_type": "code",
   "execution_count": null,
   "metadata": {},
   "outputs": [],
   "source": [
    "dns_name = iotDeviceId\n",
    "public_ip_name = iotDeviceId + 'publicip'\n",
    "vnet_name=iotDeviceId + 'vnet'\n",
    "subnet_name=iotDeviceId + 'subnet'\n",
    "vnet_prefix=\"192.168.0.0/16\"\n",
    "subnet_name=\"FrontEnd\"\n",
    "subnet_prefix=\"192.168.1.0/24\"\n",
    "nsg_name=iotDeviceId + 'nsg'\n",
    "nic_name=iotDeviceId + 'nic'\n",
    "\n",
    "# Static DNS name of the VM\n",
    "vm_dns_name= iotDeviceId + \".\" + resourceLocation + \".cloudapp.azure.com\""
   ]
  },
  {
   "cell_type": "code",
   "execution_count": null,
   "metadata": {},
   "outputs": [],
   "source": [
    "# Create resource group\n",
    "!az group create                                                                             \\\n",
    "    --name $resourceGroupName                                                                \\\n",
    "    --location $resourceLocation                                                             \\\n",
    "    --tag $resourceTags\n",
    "\n",
    "# Create a public IP address resource with a static IP address\n",
    "!az network public-ip create                                                                 \\\n",
    "   --name $public_ip_name                                                                    \\\n",
    "   --resource-group $resourceGroupName                                                       \\\n",
    "   --location $resourceLocation                                                              \\\n",
    "   --allocation-method Static                                                                \\\n",
    "   --dns-name $dns_name                                                                      \\\n",
    "   --tag $resourceTags                                                                                                                           \n",
    "\n",
    "# Create a virtual network with one subnet\n",
    "!az network vnet create                                                                      \\\n",
    "   --name $vnet_name                                                                         \\\n",
    "   --resource-group $resourceGroupName                                                       \\\n",
    "   --location $resourceLocation                                                              \\\n",
    "   --address-prefix $vnet_prefix                                                             \\\n",
    "   --subnet-name $subnet_name                                                                \\\n",
    "   --subnet-prefix $subnet_prefix                                                            \\\n",
    "   --tag $resourceTags                                                                             \n",
    "\n",
    "\n",
    "!az network nsg create                                                                       \\\n",
    "   --name $nsg_name                                                                          \\\n",
    "   --resource-group $resourceGroupName                                                       \\\n",
    "   --tag $resourceTags                                                                          \n",
    "\n",
    "# Open SSH port\n",
    "!az network nsg rule create                                                                  \\\n",
    "   --resource-group $resourceGroupName                                                       \\\n",
    "   --nsg-name $nsg_name                                                                      \\\n",
    "   --name \"Default SSH\"                                                                      \\\n",
    "   --destination-port-ranges 22                                                              \\\n",
    "   --protocol Tcp                                                                            \\\n",
    "   --access Allow                                                                            \\\n",
    "   --priority 1020                                                                         \n",
    "\n",
    "# Create a network interface connected to the VNet with a static private IP address \n",
    "# and associate the public IP address resource to the NIC.\n",
    "!az network nic create                                                                       \\\n",
    "   --name $nic_name                                                                          \\\n",
    "   --resource-group $resourceGroupName                                                       \\\n",
    "   --location $resourceLocation                                                              \\\n",
    "   --subnet $subnet_name                                                                     \\\n",
    "   --vnet-name $vnet_name                                                                    \\\n",
    "   --public-ip-address $public_ip_name                                                       \\\n",
    "   --network-security-group $nsg_name                                                        \\\n",
    "   --tag $resourceTags               \n"
   ]
  },
  {
   "cell_type": "code",
   "execution_count": null,
   "metadata": {},
   "outputs": [],
   "source": [
    "# Create the VM\n",
    "# For image param: Ubuntu 18.04-LTS image -> https://docs.microsoft.com/en-us/azure/virtual-machines/linux/cli-ps-findimage\n",
    "# Instead of Password login, we are uploading Private SSH key. Update the path accrodingly if needed\n",
    "!az vm create                                                                               \\\n",
    "   --name $iotDeviceId                                                                      \\\n",
    "   --resource-group $resourceGroupName                                                      \\\n",
    "   --location $resourceLocation                                                             \\\n",
    "   --storage-sku Standard_LRS                                                               \\\n",
    "   --os-disk-name $iotDeviceId\"_osdisk\"                                                     \\\n",
    "   --image \"Canonical:UbuntuServer:18.04-LTS:latest\"                                        \\\n",
    "   --size $vm_type                                                                          \\\n",
    "   --nics $nic_name                                                                         \\\n",
    "   --admin-username $userName                                                               \\\n",
    "   --authentication-type ssh                                                                \\\n",
    "   --tag $resourceTags                                                                      \\\n",
    "   --generate-ssh-keys                                                                      "
   ]
  },
  {
   "cell_type": "markdown",
   "metadata": {},
   "source": [
    "## Optional: Remove Previously Trusted Host\n",
    "\n",
    "If you previously created a VM with the same name, you may run into issues connecting the VM through SSH. As such, you can first remove this VM from your list of known hosts. "
   ]
  },
  {
   "cell_type": "code",
   "execution_count": null,
   "metadata": {},
   "outputs": [],
   "source": [
    "!ssh-keygen -f ~/.ssh/known_hosts -R $vm_dns_name "
   ]
  },
  {
   "cell_type": "markdown",
   "metadata": {},
   "source": [
    "If the above command was unable to run, you can try running the following command in your terminal:\n",
    "\n",
    "`ssh-keygen -R \"<vm_dns_name>\"`\n",
    "\n",
    "where vm_dns_name is the variable defined above. "
   ]
  },
  {
   "cell_type": "markdown",
   "metadata": {},
   "source": [
    "## Print the SSH Connection String for the VM"
   ]
  },
  {
   "cell_type": "code",
   "execution_count": null,
   "metadata": {},
   "outputs": [],
   "source": [
    "# If needed, use the output command to SSH into the VM\n",
    "sshstring = \"ssh -i ~/.ssh/id_rsa {0}@{1}\".format(userName, vm_dns_name)"
   ]
  },
  {
   "cell_type": "code",
   "execution_count": null,
   "metadata": {},
   "outputs": [],
   "source": [
    "# save the ssh conn string into .env file\n",
    "set_key(envPath, \"SSH_STRING\", sshstring.strip())"
   ]
  },
  {
   "cell_type": "markdown",
   "metadata": {},
   "source": [
    "> <span>[!NOTE]</span>\n",
    "> If you need the SSH connection string anytime in the future to connect to your IoT Edge device VM, you can find the string in the [.env file](.env) as `SSH_STRING`. "
   ]
  },
  {
   "cell_type": "markdown",
   "metadata": {},
   "source": [
    "## Next Steps\n",
    "If you experience unresolved issues, you can always [delete your resources](https://docs.microsoft.com/en-us/azure/azure-resource-manager/management/delete-resource-group?tabs=azure-powershell) and re-run this section.\n",
    "\n",
    "If all the code cells above have successfully finished running, return to the Readme page to continue.   "
   ]
  }
 ],
 "metadata": {
  "language_info": {
   "codemirror_mode": {
    "name": "ipython",
    "version": 3
   },
   "file_extension": ".py",
   "mimetype": "text/x-python",
   "name": "python",
   "nbconvert_exporter": "python",
   "pygments_lexer": "ipython3",
   "version": "3.6.9-final"
  },
  "orig_nbformat": 2,
  "kernelspec": {
   "name": "python3",
   "display_name": "Python 3"
  }
 },
 "nbformat": 4,
 "nbformat_minor": 2
}