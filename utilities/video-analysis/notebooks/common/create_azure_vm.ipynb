{
 "cells": [
  {
   "cell_type": "markdown",
   "metadata": {},
   "source": [
    "# Create Azure Virtual Machine\n",
    "Recall that in [the previous section](create_azure_services.ipynb), we created an IoT Edge device identity in Azure IoT Hub. In this section, we will be creating and configuring a virtual machine (VM) to act as our IoT Edge device."
   ]
  },
  {
   "cell_type": "markdown",
   "metadata": {},
   "source": [
    "## Get Global Variables"
   ]
  },
  {
   "cell_type": "code",
   "execution_count": null,
   "metadata": {},
   "outputs": [],
   "source": [
    "from env_variables import *\n",
    "resourceTags = \"Owner={} Project=lva\".format(userName)"
   ]
  },
  {
   "cell_type": "markdown",
   "metadata": {},
   "source": [
    "## Choose a VM Size\n",
    "When creating a VM, you have the option of choosing a GPU-accelerated VM or a CPU-accelerated VM. Choose the option that works best for your future needs and requriments. For this sample, we suggest choosing either a Standard_NC6 (GPU tier) VM or a Standard_DS3_v2 (CPU tier) VM. For more information on other types of VMs or different sized machines available in Azure, visit the documentation about [virtual machine types and sizes](https://docs.microsoft.com/en-us/azure/virtual-machines/sizes-general).\n",
    "\n",
    "In the following cell, choose which type of VM you wish to create by commenting out the variable which will not be in use."
   ]
  },
  {
   "cell_type": "code",
   "execution_count": null,
   "metadata": {},
   "outputs": [],
   "source": [
    "#vm_size=\"Standard_DS3_v2\" #CPU tier VM\n",
    "vm_size=\"Standard_NC6\" #GPU tier VM"
   ]
  },
  {
   "cell_type": "markdown",
   "metadata": {},
   "source": [
    "Verify that the VM size is available in your region. You may also view this page for a full list of [VMs by region](https://azure.microsoft.com/en-us/global-infrastructure/services/?regions=non-regional,us-east,us-east-2,us-central,us-north-central,us-south-central,us-west-central,us-west,us-west-2&products=virtual-machines). Based on your VM needs, you may need to change the `vm_size`, `--location`, and/or `resourceLocation` parameters to create your desired VM."
   ]
  },
  {
   "cell_type": "code",
   "execution_count": null,
   "metadata": {},
   "outputs": [],
   "source": [
    "%%bash --out sizes -s \"$azureSubscriptionId\" \"$resourceLocation\"\n",
    "az vm list-sizes --subscription $1 --location $2 --output json"
   ]
  },
  {
   "cell_type": "code",
   "execution_count": null,
   "metadata": {},
   "outputs": [],
   "source": [
    "import json\n",
    "jsonDetails = json.loads(sizes)\n",
    "\n",
    "for n in jsonDetails:\n",
    "    if vm_size == n['name']:\n",
    "        neededSpace = n['numberOfCores']\n",
    "        print('\\n' + n['name'])\n",
    "        print(\"Number of Cores Required to Deploy: %s vCPUs\" % neededSpace)"
   ]
  },
  {
   "cell_type": "markdown",
   "metadata": {},
   "source": [
    "Also verify that your subscription has enough quota to create your desired VM."
   ]
  },
  {
   "cell_type": "code",
   "execution_count": null,
   "metadata": {},
   "outputs": [],
   "source": [
    "%%bash --out output -s \"$azureSubscriptionId\" \"$resourceLocation\"\n",
    "az account set --subscription $1\n",
    "az vm list-usage --location $2 --output json"
   ]
  },
  {
   "cell_type": "code",
   "execution_count": null,
   "metadata": {},
   "outputs": [],
   "source": [
    "import json\n",
    "jsonDetails = json.loads(output)\n",
    "\n",
    "needed_size = vm_size.split('_')\n",
    "needed_size = needed_size[1]\n",
    "needed_size = ''.join([i for i in needed_size if not i.isdigit()])\n",
    "\n",
    "quota_remaining = 0\n",
    "for n in jsonDetails:\n",
    "    if (needed_size in n['localName']):\n",
    "        quota_remaining = int(n['limit']) - int(n['currentValue'])\n",
    "        print('\\n' + n['localName'])\n",
    "        print(\"Quota Remaining: %s vCPUs\" % quota_remaining)"
   ]
  },
  {
   "cell_type": "markdown",
   "metadata": {},
   "source": [
    "Check if the quota remaining is greater than the size of the VM you wish to create.\n",
    "\n",
    "If you do not enough quota, you can try any of the following:\n",
    "* [Select a VM](https://docs.microsoft.com/en-us/azure/virtual-machines/windows/sizes) with fewer vCPUs or one in another family of VMs.\n",
    "* [Delete VMs](https://docs.microsoft.com/en-us/powershell/module/azurerm.compute/remove-azurermvm?view=azurermps-6.13.0) that might not be in use to free up quota.\n",
    "* [Increase quota](https://docs.microsoft.com/en-us/azure/azure-portal/supportability/per-vm-quota-requests) limits."
   ]
  },
  {
   "cell_type": "markdown",
   "metadata": {},
   "source": [
    "## Create the Virtual Machine\n",
    "The code snippets below will execute a shell script to create an Ubuntu VM in your Azure subscription. \n",
    "\n",
    "Before starting, we will be setting the parameters to be used for creating the VM. For more details on the process of creating a VM using Azure, see the tutorial on creating a [Linux VM on Azure CLI](https://docs.microsoft.com/en-us/azure/virtual-machines/linux/quick-create-cli) or the tutorial on creating a [Windows VM on Azure CLI](https://docs.microsoft.com/en-us/azure/virtual-machines/windows/quick-create-cli)."
   ]
  },
  {
   "cell_type": "code",
   "execution_count": null,
   "metadata": {},
   "outputs": [],
   "source": [
    "dns_name = iotDeviceId\n",
    "public_ip_name = iotDeviceId + 'publicip'\n",
    "vnet_name=iotDeviceId + 'vnet'\n",
    "subnet_name=iotDeviceId + 'subnet'\n",
    "vnet_prefix=\"192.168.0.0/16\"\n",
    "subnet_name=\"FrontEnd\"\n",
    "subnet_prefix=\"192.168.1.0/24\"\n",
    "nsg_name=iotDeviceId + 'nsg'\n",
    "nic_name=iotDeviceId + 'nic'\n",
    "\n",
    "# Static DNS name of the VM\n",
    "vm_dns_name= iotDeviceId + \".\" + resourceLocation + \".cloudapp.azure.com\""
   ]
  },
  {
   "cell_type": "code",
   "execution_count": null,
   "metadata": {},
   "outputs": [],
   "source": [
    "%%bash --out output -s \"$iotDeviceId\" \"$userName\" \"$vm_dns_name\"\n",
    "\n",
    "# -----------------------\n",
    "# Create SSH Keys - !!! DONT RUN THIS CELL IN CASE YOU ALREADY CREATED THE VM. IT WILL RESET THE PUBLIC KEYS!!!\n",
    "# -----------------------\n",
    "# Create public/private ssh keys.\n",
    "yes y | ssh-keygen -b 2048 -t rsa -f ~/.ssh/$1\"_id_rsa\" -C $2@$3 -q -N '' >/dev/null\n",
    "\n",
    "# Remove prev. trusted host with same name (IP may be changed)\n",
    "if [ -e ~/.ssh/known_hosts ]; then\n",
    "ssh-keygen -f ~/.ssh/known_hosts -R $3\n",
    "fi"
   ]
  },
  {
   "cell_type": "code",
   "execution_count": null,
   "metadata": {},
   "outputs": [],
   "source": [
    "%%bash -s \"$resourceGroupName\" \"$resourceLocation\" \"$public_ip_name\" \"$dns_name\" \"$vnet_name\" \"$vnet_prefix\" \"$subnet_name\" \"$subnet_prefix\" \"$nsg_name\" \"$nic_name\" \"$iotDeviceId\" \"$vm_size\" \"$userName\" \"$resourceTags\"\n",
    "\n",
    "# Create resource group\n",
    "az group create                                                                             \\\n",
    "    --name ${1}                                                                             \\\n",
    "    --location ${2}                                                                         \\\n",
    "    --tag ${14}\n",
    "\n",
    "# Create a public IP address resource with a static IP address\n",
    "az network public-ip create                                                                 \\\n",
    "   --name ${3}                                                                              \\\n",
    "   --resource-group ${1}                                                                    \\\n",
    "   --location ${2}                                                                          \\\n",
    "   --allocation-method Static                                                               \\\n",
    "   --dns-name ${4}                                                                          \\\n",
    "   --tag ${14}                                                                                                                             \n",
    "\n",
    "# Create a virtual network with one subnet\n",
    "az network vnet create                                                                      \\\n",
    "   --name ${5}                                                                              \\\n",
    "   --resource-group ${1}                                                                    \\\n",
    "   --location ${2}                                                                          \\\n",
    "   --address-prefix ${6}                                                                    \\\n",
    "   --subnet-name ${7}                                                                       \\\n",
    "   --subnet-prefix ${8}                                                                     \\\n",
    "   --tag ${14}                                                                              \n",
    "\n",
    "\n",
    "az network nsg create                                                                       \\\n",
    "   --name ${9}                                                                              \\\n",
    "   --resource-group ${1}                                                                    \\\n",
    "   --tag ${14}                                                                          \n",
    "\n",
    "# Open SSH port\n",
    "az network nsg rule create                                                                  \\\n",
    "   --resource-group ${1}                                                                    \\\n",
    "   --nsg-name ${9}                                                                          \\\n",
    "   --name \"Default SSH\"                                                                     \\\n",
    "   --destination-port-ranges 22                                                             \\\n",
    "   --protocol Tcp                                                                           \\\n",
    "   --access Allow                                                                           \\\n",
    "   --priority 1020                                                                         \n",
    "\n",
    "# Create a network interface connected to the VNet with a static private IP address \n",
    "# and associate the public IP address resource to the NIC.\n",
    "az network nic create                                                                       \\\n",
    "   --name ${10}                                                                             \\\n",
    "   --resource-group ${1}                                                                    \\\n",
    "   --location ${2}                                                                          \\\n",
    "   --subnet ${7}                                                                            \\\n",
    "   --vnet-name ${5}                                                                         \\\n",
    "   --public-ip-address ${3}                                                                 \\\n",
    "   --network-security-group ${9}                                                            \\\n",
    "   --tag ${14}                \n"
   ]
  },
  {
   "cell_type": "code",
   "execution_count": null,
   "metadata": {},
   "outputs": [],
   "source": [
    "%%bash -s \"$resourceGroupName\" \"$resourceLocation\" \"$public_ip_name\" \"$dns_name\" \"$vnet_name\" \"$vnet_prefix\" \"$subnet_name\" \"$subnet_prefix\" \"$nsg_name\" \"$nic_name\" \"$iotDeviceId\" \"$vm_size\" \"$userName\" \"$resourceTags\"\n",
    "\n",
    "# Create the VM\n",
    "# For image param: Ubuntu 18.04-LTS image -> https://docs.microsoft.com/en-us/azure/virtual-machines/linux/cli-ps-findimage\n",
    "# Instead of Password login, we are uploading Private SSH key. Update the path accordingly if needed\n",
    "az vm create                                                                               \\\n",
    "   --name ${11}                                                                            \\\n",
    "   --resource-group ${1}                                                                   \\\n",
    "   --location ${2}                                                                         \\\n",
    "   --storage-sku Standard_LRS                                                              \\\n",
    "   --os-disk-name ${11}\"_osdisk\"                                                           \\\n",
    "   --image \"Canonical:UbuntuServer:18.04-LTS:latest\"                                       \\\n",
    "   --size ${12}                                                                            \\\n",
    "   --nics ${10}                                                                            \\\n",
    "   --admin-username ${13}                                                                  \\\n",
    "   --authentication-type ssh                                                               \\\n",
    "   --ssh-key-value \"$(< ~/.ssh/\"${11}\"_id_rsa.pub)\"                                        \\\n",
    "   --tag ${14}"
   ]
  },
  {
   "cell_type": "markdown",
   "metadata": {},
   "source": [
    "In the cell above,  if you get an error such as \n",
    "\n",
    "```\n",
    "admin user name cannot contain upper case character A-Z, special characters \\/\"[]:|<>+=;,?*@#()! or start with $ or -\n",
    "```\n",
    "\n",
    "then try changing the value of `$userName` to a name without the prohibited characters. Also do the same for all the cells below."
   ]
  },
  {
   "cell_type": "code",
   "execution_count": null,
   "metadata": {},
   "outputs": [],
   "source": [
    "%%bash -s \"$iotDeviceId\" \"$userName\" \"$vm_dns_name\"\n",
    "\n",
    "# Install ssh keys to remote machine\n",
    "ssh -i ~/.ssh/$1\"_id_rsa\" -o \"StrictHostKeyChecking no\" $2@$3 \"echo 'SSH key transferred.'\""
   ]
  },
  {
   "cell_type": "markdown",
   "metadata": {},
   "source": [
    "## Restart the VM"
   ]
  },
  {
   "cell_type": "code",
   "execution_count": null,
   "metadata": {},
   "outputs": [],
   "source": [
    "%%bash  -s \"$iotDeviceId\" \"$userName\" \"$vm_dns_name\"\n",
    "ssh -i ~/.ssh/$1\"_id_rsa\" $2@$3 << EOF\n",
    "sudo -b bash -c 'sleep 5; reboot' &>/dev/null;\n",
    "EOF"
   ]
  },
  {
   "cell_type": "markdown",
   "metadata": {},
   "source": [
    "## Print the SSH Connection String for the VM"
   ]
  },
  {
   "cell_type": "code",
   "execution_count": null,
   "metadata": {},
   "outputs": [],
   "source": [
    "%%bash --out sshstring -s \"$iotDeviceId\" \"$userName\" \"$vm_dns_name\"\n",
    "\n",
    "# If needed, use the output command to SSH into the VM\n",
    "echo ssh -i ~/.ssh/$1\"_id_rsa\" $2@$3"
   ]
  },
  {
   "cell_type": "code",
   "execution_count": null,
   "metadata": {},
   "outputs": [],
   "source": [
    "# save the ssh conn string into .env file\n",
    "set_key(envPath, \"SSH_STRING\", sshstring.strip())"
   ]
  },
  {
   "cell_type": "markdown",
   "metadata": {},
   "source": [
    "> <span>[!NOTE]</span>\n",
    "> If you need the SSH connection string anytime in the future to connect to your IoT Edge device VM, you can find the string in the [.env file](.env) as `SSH_STRING`. "
   ]
  },
  {
   "cell_type": "markdown",
   "metadata": {},
   "source": [
    "## Next Steps\n",
    "If you experience unresolved issues, you can always [delete your resources](https://docs.microsoft.com/en-us/azure/azure-resource-manager/management/delete-resource-group?tabs=azure-powershell) and re-run this section.\n",
    "\n",
    "If all the code cells above have successfully finished running, return to the Readme page to continue.   "
   ]
  }
 ],
 "metadata": {
  "language_info": {
   "codemirror_mode": {
    "name": "ipython",
    "version": 3
   },
   "file_extension": ".py",
   "mimetype": "text/x-python",
   "name": "python",
   "nbconvert_exporter": "python",
   "pygments_lexer": "ipython3",
   "version": "3.6.9-final"
  },
  "orig_nbformat": 2,
  "kernelspec": {
   "name": "python3",
   "display_name": "Python 3"
  }
 },
 "nbformat": 4,
 "nbformat_minor": 2
}
