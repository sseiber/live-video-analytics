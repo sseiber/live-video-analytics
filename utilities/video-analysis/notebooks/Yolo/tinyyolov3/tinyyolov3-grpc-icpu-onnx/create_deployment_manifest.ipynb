{
 "cells": [
  {
   "cell_type": "markdown",
   "metadata": {},
   "source": [
    "# Create a Deployment Manifest"
   ]
  },
  {
   "cell_type": "code",
   "execution_count": null,
   "metadata": {},
   "outputs": [],
   "source": [
    "import sys\n",
    "sys.path.append('../../../common')\n",
    "from env_variables import *"
   ]
  },
  {
   "cell_type": "code",
   "execution_count": null,
   "metadata": {},
   "outputs": [],
   "source": [
    "# Manifest filenames\n",
    "templateManifestFileName = \"../../../common/deployment.common.template.json\"\n",
    "deploymentManifestFileName = \"../../../common/deployment.lva_tiny_yolov3_icpu_gprc.template.json\""
   ]
  },
  {
   "cell_type": "markdown",
   "metadata": {},
   "source": [
    "## Update Deployment Manifest Template\n",
    "\n",
    "The following cell will create a custom template based on this sample. It will copy the sample deployment manifest template and add a few more parameters to a new manifest template. For this sample, we are specifying inter communication port properties as shareable between lvaEdge and lvaExtension modules on the IoT Edge device."
   ]
  },
  {
   "cell_type": "code",
   "execution_count": null,
   "metadata": {},
   "outputs": [],
   "source": [
    "import json\n",
    "\n",
    "with open(templateManifestFileName) as f:\n",
    "    data = json.load(f)\n",
    "\n",
    "# Set lvaEdge container attribute so its shared mem area is accessible by other containers \n",
    "hostConfigNode = data[\"modulesContent\"][\"$edgeAgent\"][\"properties.desired\"][\"modules\"][\"lvaEdge\"][\"settings\"][\"createOptions\"][\"HostConfig\"]\n",
    "hostConfigNode[\"IpcMode\"] = \"shareable\"\n",
    "\n",
    "# Set LVA Extension container attributes to be able to access lvaEdge container's shared memory area\n",
    "hostConfigNode = data[\"modulesContent\"][\"$edgeAgent\"][\"properties.desired\"][\"modules\"][\"lvaExtension\"][\"settings\"][\"createOptions\"][\"HostConfig\"]\n",
    "hostConfigNode[\"IpcMode\"] = \"container:lvaEdge\"\n",
    "\n",
    "# Specify debug output folder on the IoTEdgeDevice\n",
    "hostConfigNode[\"Binds\"] = [\"{}:/lvaextensiondebug\".format(debugOutputFolder)]\n",
    "\n",
    "# Set environment variables for enabling the custom debugging feature and specify debug output folder\n",
    "lvaExtensionNode = data[\"modulesContent\"][\"$edgeAgent\"][\"properties.desired\"][\"modules\"][\"lvaExtension\"]\n",
    "envVar = {\n",
    "            \"DEBUG\" : {\n",
    "                \"value\" : \"True\"\n",
    "            }\n",
    "         }\n",
    "\n",
    "lvaExtensionNode[\"env\"] = envVar\n",
    "\n",
    "with open(deploymentManifestFileName, \"w\") as f:\n",
    "    json.dump(data, f, indent=4)"
   ]
  },
  {
   "cell_type": "markdown",
   "metadata": {},
   "source": [
    "## Deployment Manifest File \n",
    "For deploying IoT Edge Modules on to an IoT Edge device, you need a manifest file which is a Json file. A manifest file specifies the details of the modules (IoT Edge Runtime specific Docker container images) that will be deployed into the Edge device. We will use the [deployment.common.template.json](deployment.common.template.json) manifest file as a template for module deployment and update its content specific to this sample. The manifest is organized like the following image:  \n",
    "\n",
    "<img src=\"../../../../../../images/_deployment_modules_0.png\" width=300px/>  \n",
    "\n",
    "As shown in the image above, branch 2 of the Json file defines the system modules to be deployed onto the Edge device. These two system modules (edgeAgent, edgeHub) are necessary modules in each IoT Edge device. In branch 3 of the Json file, we define the custom modules that we want to deploy to the edge device.  \n",
    "The three custom modules in branch 3 of the Json file are as follows: \n",
    "* lvaEdge - node where we define the lvaEdge-specific details, such as from which Container Registry address it should be downloaded. (You may use other reference names, but the name must be consistent in other locations within the manifest file or in any other related code.)\n",
    "* lvaExtension - the reference name we gave for our inference server module that we developed and uploaded into ACR.\n",
    "* rtspsim - the reference name given to another container image in ACR. This module simulates an IP camera by playing a user-defined video file as if it were being streamed from an IP camera. This module is optional and placed here to aid users who don't have an IP camera but still want to test LVA.\n",
    "\n",
    "For more details about IoT Edge modules, refer to [Azure IoT Edge documentation](https://docs.microsoft.com/en-us/azure/iot-edge/about-iot-edge).\n",
    "\n",
    "If you check the contents of the template manifest file, you will see placeholders that start with the character $. \n",
    "\n",
    "| **Placeholder** | **Description** | \n",
    "| --- | --- | \n",
    "| CONTAINER_REGISTRY_USERNAME_myacr | The username that Azure Container Registry (ACR) will use to authenticate with the registry.<br>ACR is a registry of Docker and Open Container Initiative (OCI) images.| \n",
    "| CONTAINER_REGISTRY_PASSWORD_myacr | The password that Azure Container Registry (ACR) will use to authenticate with the registry.<br>When run, a Active Directory token is created to authenticate your session with the container registry.| \n",
    "| CONTAINER_IMAGE_NAME | The name of the container image that will be used for deployment.<br>Once uploaded to ACR, it can be called through CONTAINER_REGISTRY_USERNAME_myacr.azurecr.io/CONTAINER_IMAGE_NAME. |\n",
    "| SUBSCRIPTION_ID | The ID associated with your Azure subscription, typically containing dashes within the string.<br>A subscription represents a grouping of Azure resources. An invoice is generated at the subscription scope. | \n",
    "| RESOURCE_GROUP | The name of the resource group that holds your resources.<br>A resource group is a container that holds related resources for an Azure solution. | \n",
    "| AMS_ACCOUNT | The name of your Azure Media Services (AMS) resource.<br>AMS is a cloud-based media workflow platform to index, package, protect, and stream video. |\n",
    "| AAD_TENANT_ID | The Azure Active Directory (AAD) tenant ID, which is used as a reference to a directory.<br>An AAD directory object holds security-related objects such as user accounts, applications, and groups.| \n",
    "| AAD_SERVICE_PRINCIPAL_ID | The ID associated with the AAD's service principal.<br>A service principal is a security identity used by user-created apps, services, and tools to access Azure resources. | \n",
    "| AAD_SERVICE_PRINCIPAL_SECRET | A secret string associated with the AAD's service principal.<br>The AAD service principal secret adds a layer of security at the service principal scope. | \n",
    "| INPUT_VIDEO_FOLDER_ON_DEVICE | The path pointing to the folder in which the desired input video is stored.<br>This path must be specified in order for LVA to find the correct videos to process. | \n",
    "| OUTPUT_VIDEO_FOLDER_ON_DEVICE | The path pointing to the folder in which the processed video output will be stored.<br>After processing is complete, the processed video will be sent and stored in this folder. | \n",
    "\n",
    "In the [previous section](../../../common/upload_container_image_to_acr.ipynb), we pushed our inference server container image to the cloud using Azure Container Registry (ACR). In doing so, ACR created a .env file containing the credentials to your container registry. These credentials are shared with your IoT Edge device so that it has access to pull the container image.\n",
    "\n",
    "We will use the credentials found in the .env file to create an IoT Edge device module deployment manifest file in Json format. The credentials found in the .env file will replace the placeholders we set in our template [deployment.common.template.json](deployment.common.template.json) manifest file.\n",
    "\n",
    "How does this work? The deployment manifest file is a file that defines exactly which modules you want deployed on a device, how they should be configured, and how they can communicate with each other and the Cloud. When you transform the template into a true deployment manifest, the placeholders in the table above are replaced with values taken from other solution files. Credentials placed in this file are then shared with the IoT Edge runtime to pull your container images onto the IoT Edge device. This configuration is for security purposes, as the .env file is git ignored but the deployment template is not. You should double check by opening the .env file and confirming that your credentials are included. If not, add them manually by locating the appropriate services on Azure and save the .env file."
   ]
  }
 ],
 "metadata": {
  "language_info": {
   "codemirror_mode": {
    "name": "ipython",
    "version": 3
   },
   "file_extension": ".py",
   "mimetype": "text/x-python",
   "name": "python",
   "nbconvert_exporter": "python",
   "pygments_lexer": "ipython3",
   "version": "3.6.10-final"
  },
  "orig_nbformat": 2,
  "kernelspec": {
   "name": "python361064bitconda8556cceeaf8e4a69921fff718f0d698b",
   "display_name": "Python 3.6.10 64-bit (conda)"
  }
 },
 "nbformat": 4,
 "nbformat_minor": 2
}