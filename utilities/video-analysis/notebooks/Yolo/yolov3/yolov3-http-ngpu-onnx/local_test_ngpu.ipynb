{
 "cells": [
  {
   "cell_type": "markdown",
   "metadata": {},
   "source": [
    "# Test the Docker Container Locally (Optional)\n",
    "\n",
    "Uploading the Docker container onto a cloud-based container registry may be a long process. Thus, before upload, we can **optionally** test our image to see if it works fine. \n",
    "\n",
    "To run this section, you must meet the following requirements. (If you do not meet all of the requirements, you can skip this section.)\n",
    "   * Your development PC has the same GPU as your IoT Edge device\n",
    "   * Your development PC has the same GPU drivers installed as your IoT Edge device\n",
    "   * Your development PC has the same NVidia Docker toolkit installed as your IoT Edge device\n",
    "\n",
    "If you are unsure how to install the latter two requirements, you can review the GPU installation process described in \"install_iotedge_runtime_gpu.md\"."
   ]
  },
  {
   "cell_type": "markdown",
   "metadata": {},
   "source": [
    "## Run Docker Container\n",
    "\n",
    "The code snippet below runs our Docker container by mapping the host PC's port 5001.\n",
    "\n",
    "> <span>[!NOTE]</span>\n",
    "> Execution of the below command may take several minutes."
   ]
  },
  {
   "cell_type": "code",
   "execution_count": null,
   "metadata": {},
   "outputs": [],
   "source": [
    "import sys\n",
    "sys.path.append('../../../common')\n",
    "from env_variables import *"
   ]
  },
  {
   "cell_type": "code",
   "execution_count": null,
   "metadata": {},
   "outputs": [],
   "source": [
    "!docker run --name lvaExtension --runtime nvidia  -p 8080:80 -d  -i $containerImageName"
   ]
  },
  {
   "cell_type": "markdown",
   "metadata": {},
   "source": [
    "## Send Sample Image\n",
    "\n",
    "Now call the server score endpoint by sending a sample image.\n",
    "> [!IMPORTANT]\n",
    "> Here the sample image size is and must be 416x416 pixels, as explained in the previous section. The result of the code below should be a Json file with inference results like the following.\n",
    "\n",
    "```\n",
    "{\n",
    "    \"type\": \"entity\",\n",
    "    \"entity\": {\n",
    "        \"tag\": {\n",
    "            \"value\": \"person\",\n",
    "            \"confidence\": 0.959613\n",
    "        },\n",
    "        \"box\": {\n",
    "            \"l\": 0.692427,\n",
    "            \"t\": 0.364723,\n",
    "            \"w\": 0.084010,\n",
    "            \"h\": 0.077655\n",
    "        }\n",
    "    }\n",
    "},\n",
    "{\n",
    "    \"type\": \"entity\",\n",
    "    \"entity\": {\n",
    "        \"tag\": {\n",
    "        \"value\": \"vehicle\",\n",
    "        \"confidence\": 0.929751\n",
    "        },\n",
    "        \"box\": {\n",
    "            \"l\": 0.521143,\n",
    "            \"t\": 0.446333,\n",
    "            \"w\": 0.166306,\n",
    "            \"h\": 0.126898\n",
    "        }\n",
    "    }\n",
    "}\n",
    "```"
   ]
  },
  {
   "cell_type": "code",
   "execution_count": null,
   "metadata": {},
   "outputs": [],
   "source": [
    "!curl https://lvamedia.blob.core.windows.net/public/people_in_cafeteria_416x416.jpg > \"sample.jpg\""
   ]
  },
  {
   "cell_type": "code",
   "execution_count": null,
   "metadata": {},
   "outputs": [],
   "source": [
    "!curl -X POST http://127.0.0.1:8080/score -H \"Content-Type: image/jpeg\" --data-binary @sample.jpg "
   ]
  },
  {
   "cell_type": "markdown",
   "metadata": {},
   "source": [
    "## Stop Docker Container\n",
    "Finally, stop the running container and deallocate the resources."
   ]
  },
  {
   "cell_type": "code",
   "execution_count": null,
   "metadata": {},
   "outputs": [],
   "source": [
    "!docker stop lvaExtension"
   ]
  },
  {
   "cell_type": "code",
   "execution_count": null,
   "metadata": {},
   "outputs": [],
   "source": [
    "!docker rm lvaExtension"
   ]
  },
  {
   "cell_type": "markdown",
   "metadata": {},
   "source": [
    "## Next Steps\n",
    "If all the code cells above have successfully finished running, return to the Readme page to continue.   "
   ]
  }
 ],
 "metadata": {
  "language_info": {
   "codemirror_mode": {
    "name": "ipython",
    "version": 3
   },
   "file_extension": ".py",
   "mimetype": "text/x-python",
   "name": "python",
   "nbconvert_exporter": "python",
   "pygments_lexer": "ipython3",
   "version": "3.7.5-final"
  },
  "orig_nbformat": 2,
  "kernelspec": {
   "name": "python37564bit48778587bdfe4116b67b8e502a7fccd9",
   "display_name": "Python 3.7.5 64-bit"
  }
 },
 "nbformat": 4,
 "nbformat_minor": 2
}