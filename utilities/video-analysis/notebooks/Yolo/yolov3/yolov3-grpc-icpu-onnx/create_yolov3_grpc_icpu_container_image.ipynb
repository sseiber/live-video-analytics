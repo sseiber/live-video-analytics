{
  "cells": [
    {
      "metadata": {
        "collapsed": true
      },
      "cell_type": "markdown",
      "source": [
        "# Create a Local Docker Image\n",
        "In this section, we will create an IoT Edge module, a Docker container image from an ML solution."
      ]
    },
    {
      "cell_type": "markdown",
      "metadata": {},
      "source": [
        "If you do not wish to create a local Docker image, you can use a pre-built YOLOv3 gRPC model from Microsoft Container Registry by altering the deployment.common.template.json file. Under the lvaExtension node, change the \n",
        "```\n",
        "\"image\": \"$CONTAINER_REGISTRY_USERNAME_myacr.azurecr.io/$CONTAINER_IMAGE_NAME\"\n",
        "```  \n",
        "\n",
        "to \n",
        "\n",
        "```\n",
        "\"image\": \"mcr.microsoft.com/lva-utilities/lvaextension:grpc-yolov3-onnx-v1.0\"\n",
        "```\n",
        "\n",
        "Then, skip this step (10. Containerize inference engine solution) and the next step (11. Upload container image to ACR), and go directly to step 12. If you want to run other samples in the future, first revert the deployment.common.template.json file to its original content.\n"
      ]
    },
    {
      "metadata": {},
      "cell_type": "markdown",
      "source": [
        "## Get Global Variables"
      ]
    },
    {
      "metadata": {
        "trusted": true
      },
      "cell_type": "code",
      "source": [
        "import sys\n",
        "sys.path.append('../../../common')\n",
        "from env_variables import *"
      ],
      "execution_count": null,
      "outputs": []
    },
    {
      "cell_type": "markdown",
      "metadata": {},
      "source": [
        "## Create a Local Docker Image\n",
        "We will create a Docker image locally. We will later host the image in a container registry like Docker Hub, Azure Container Registry, or a local registry.\n",
        "\n",
        "An alternative to this approach is using ACR to compile the image for you in the cloud. For such additional options you may refer to [ACR documentation](https://docs.microsoft.com/en-us/azure/container-registry/container-registry-quickstart-task-cli).\n",
        "\n",
        "To run the following code snippet, you must have the pre-requisities mentioned in [the requirements page](requirements.md). Most notably, we are running the `docker` command without `sudo`.\n",
        "\n",
        "> <span>[!WARNING]</span>\n",
        "> Please ensure that Docker is running before executing the cell below. Execution of the cell below may take several minutes. "
      ]
    },
    {
      "cell_type": "code",
      "execution_count": null,
      "metadata": {
        "tags": []
      },
      "outputs": [],
      "source": [
        "pathSolution = \"../../../../../../\" + lvaSamplePath + \"/\" + lvaExtensionPath\n",
        "\n",
        "!docker build -t $containerImageName --file $pathSolution/Dockerfile $pathSolution"
      ]
    },
    {
      "cell_type": "markdown",
      "metadata": {},
      "source": [
        "## Next Steps\n",
        "If all the code cells above have successfully finished running, check the list of Docker container images on your machine by using the following command in the VSCode terminal:  \n",
        "\n",
        "``` bash\n",
        "        > ... /live-video-analytics$ docker image list\n",
        "        REPOSITORY      TAG                 IMAGE ID       CREATED             SIZE\n",
        "        lvaextension    grpc.yolov3.v1      6f10a00b4131   8 minutes ago       775MB\n",
        "        python          3.8-slim            9d84edf35a0a   6 weeks ago         165MB\n",
        "```\n",
        "\n",
        "\n",
        "If you see the correct image, return to the Readme page to continue.   "
      ]
    }
  ],
  "metadata": {
    "kernelspec": {
      "name": "python361064bitconda8556cceeaf8e4a69921fff718f0d698b",
      "display_name": "Python 3.6.10 64-bit (conda)",
      "language": "python"
    },
    "language_info": {
      "mimetype": "text/x-python",
      "nbconvert_exporter": "python",
      "name": "python",
      "pygments_lexer": "ipython3",
      "version": "3.6.10-final",
      "file_extension": ".py",
      "codemirror_mode": {
        "version": 3,
        "name": "ipython"
      }
    }
  },
  "nbformat": 4,
  "nbformat_minor": 2
}