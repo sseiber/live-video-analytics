{
  "cells": [
    {
      "metadata": {
        "collapsed": true
      },
      "cell_type": "markdown",
      "source": [
        "# Create a CPU Accelerated ResNet50 Inference Engine\n",
        "In this section, we will create an inference engine wrapper, a class that will get image data as input, analyze it, and return the analysis result."
      ]
    },
    {
      "metadata": {},
      "cell_type": "markdown",
      "source": [
        "## Get Global Variables\n",
        "\n",
        "First, read the previously stored variables. We need the name of the directory that will be used to store our ML solution files. If this directory does not exist, we will create a directory with a specified directory name."
      ]
    },
    {
      "metadata": {
        "trusted": true
      },
      "cell_type": "code",
      "source": [
        "import sys\n",
        "sys.path.append('../../../common')\n",
        "from env_variables import *\n",
        "\n",
        "import os\n",
        "if not os.path.exists(lvaExtensionPath):\n",
        "    os.mkdir(lvaExtensionPath)"
      ],
      "execution_count": null,
      "outputs": []
    },
    {
      "metadata": {},
      "cell_type": "markdown",
      "source": [
        "## Download the ONNX ML Model\n",
        "Next, we will download the sample ONNX model to use in the solution. Recall that in this sample, we will be using ResNet50, an image classification ML model. However, you may customize this ML model to fit your needs."
      ]
    },
    {
      "metadata": {
        "trusted": true
      },
      "cell_type": "code",
      "source": [
        "# Do not change the values below, as the names are embedded into the score.py file.\n",
        "# If the values are changed, you must also update the score.py content according to new file names\n",
        "onnxModelFileName = \"resnet50-v2-7.onnx\"\n",
        "onnxLabelFileName = \"synset.txt\"\n",
        "\n",
        "onnxModelUrl = \"https://github.com/onnx/models/raw/master/vision/classification/resnet/model/resnet50-v2-7.onnx\"\n",
        "onnxModelLabels = \"https://github.com/onnx/models/raw/master/vision/classification/synset.txt\""
      ],
      "execution_count": null,
      "outputs": []
    },
    {
      "cell_type": "markdown",
      "metadata": {},
      "source": [
        "The code snippet below downloads the ResNet50 model from the [ONNX Model Zoo](https://github.com/onnx/models) repository. \n",
        "\n",
        "> <span>[!NOTE]</span>\n",
        "> The model download URLs frequently change, so if any of the code below fails, please update the source URLs accordingly."
      ]
    },
    {
      "metadata": {
        "trusted": true
      },
      "cell_type": "code",
      "source": [
        "# Download the model files\n",
        "import urllib.request\n",
        "import os\n",
        "\n",
        "# Download the ResNet50 pre-trained model\n",
        "lvaExtensionFilePath = os.path.join(lvaExtensionPath, onnxModelFileName)\n",
        "if not os.path.exists(lvaExtensionFilePath):\n",
        "    res = urllib.request.urlretrieve(onnxModelUrl, lvaExtensionFilePath)\n",
        "    print(\"Model file downloaded at: {}\".format(lvaExtensionFilePath))\n",
        "else:\n",
        "    print(\"{} already exists here, so not downloading again.\".format(lvaExtensionFilePath))\n",
        "    \n",
        "# Download the labels of the ResNet50 pre-trained model\n",
        "lvaExtensionLabelFilePath = os.path.join(lvaExtensionPath, onnxLabelFileName)\n",
        "if not os.path.exists(lvaExtensionLabelFilePath):\n",
        "    res = urllib.request.urlretrieve(onnxModelLabels, lvaExtensionLabelFilePath)\n",
        "    print(\"Labels file downloaded at: {}\".format(lvaExtensionLabelFilePath))\n",
        "else:\n",
        "    print(\"{} already exists here, so not downloading again.\".format(lvaExtensionLabelFilePath))"
      ],
      "execution_count": null,
      "outputs": []
    },
    {
      "metadata": {},
      "cell_type": "markdown",
      "source": [
        "## Create Inference Engine Wrapper\n",
        "Next, we will create a class that with different properties and methods to help scoring and analysing data from an image. This class will also help us specify analytics compute targets, such as CPU, VPU, FPGA, and debugging features.  \n",
        "\n",
        "> <span style=\"color:red; font-weight: bold\"> [!IMPORTANT] </span>\n",
        "> Specific to this sample, we are using the ResNet50 model. As you can see from the code below,  \n",
        "> * The ResNet50 model accepts only raw image bytes with 224 by 224 in size.  \n",
        "> * Because we expect the `score` method to receive raw bytes of this size (224x224), we have statically coded the image size into our code. If the image is not 224x224, then the code will crash.\n",
        "> * Why do we statically code the image size? LVA sends video frames to the `score` endpoint. In fact, LVA can send any image size and format. Since LVA can send images with 224x224 size, we do not need to spend additional compute cycles for re-sizing an image."
      ]
    },
    {
      "metadata": {
        "trusted": true
      },
      "cell_type": "code",
      "source": [
        "%%writefile $lvaExtensionPath/score.py\n",
        "import threading\n",
        "import cv2\n",
        "import numpy as np\n",
        "import io\n",
        "import onnxruntime\n",
        "import json\n",
        "import logging\n",
        "import os\n",
        "import linecache\n",
        "import sys\n",
        "\n",
        "logging.basicConfig(level=logging.DEBUG)\n",
        "\n",
        "def PrintGetExceptionDetails():\n",
        "    exType, exValue, exTraceback = sys.exc_info()\n",
        "\n",
        "    tbFrame = exTraceback.tb_frame\n",
        "    lineNo = exTraceback.tb_lineno\n",
        "    fileName = tbFrame.f_code.co_filename\n",
        "\n",
        "    linecache.checkcache(fileName)\n",
        "    line = linecache.getline(fileName, lineNo, tbFrame.f_globals)\n",
        "\n",
        "    exMessage = '[LVAX] Exception:\\n\\tFile name: {0}\\n\\tLine number: {1}\\n\\tLine: {2}\\n\\tValue: {3}'.format(fileName, lineNo, line.strip(), exValue)\n",
        "\n",
        "    logging.info(exMessage)\n",
        "\n",
        "\n",
        "class MLModel:\n",
        "    def __init__(self):\n",
        "        try:\n",
        "            self._modelFileName = 'resnet50-v2-7.onnx'\n",
        "            self._labelFileName = 'synset.txt'\n",
        "            self._lock = threading.Lock()\n",
        "\n",
        "            with open(self._labelFileName, \"r\") as f:\n",
        "                self._labelList = [l.rstrip() for l in f]\n",
        "\n",
        "            self._onnxSession = onnxruntime.InferenceSession(self._modelFileName)\n",
        "\n",
        "        except:\n",
        "            PrintGetExceptionDetails()\n",
        "\n",
        "    def Preprocess(self, cvImage):\n",
        "        try:\n",
        "            imageBlob = cv2.cvtColor(cvImage, cv2.COLOR_BGR2RGB)\n",
        "            imageBlob = np.array(imageBlob, dtype='float32')\n",
        "            imageBlob /= 255.\n",
        "            imageBlob = np.transpose(imageBlob, [2, 0, 1])\n",
        "            imageBlob = np.expand_dims(imageBlob, 0)\n",
        "\n",
        "            return imageBlob\n",
        "        except:\n",
        "            PrintGetExceptionDetails()\n",
        "\n",
        "    def Postprocess(self, probabilities):\n",
        "        try:\n",
        "            sorted_prob = np.squeeze(np.sort(probabilities))[::-1]\n",
        "            sorted_indices = np.squeeze(np.argsort(probabilities))[::-1]\n",
        "            detectedObjects = []\n",
        "                \n",
        "            for i in range(3):\n",
        "                confidence = sorted_prob[i]/100 #convert percent to decimal\n",
        "                obj = self._labelList[sorted_indices[i]]\n",
        "                obj_name = obj.split(' ', 1)[1]\n",
        "\n",
        "                dobj = {\n",
        "                    \"type\" : \"classification\",\n",
        "                    \"classification\" : {\n",
        "                        \"tag\" : {\n",
        "                            \"value\" : obj_name, #skip the first word\n",
        "                            \"confidence\" : confidence\n",
        "                        }\n",
        "                    }\n",
        "                }\n",
        "                detectedObjects.append(dobj)\n",
        "\n",
        "            return detectedObjects\n",
        "            \n",
        "        except:\n",
        "            PrintGetExceptionDetails()\n",
        "\n",
        "    def Score(self, cvImage):\n",
        "        try:\n",
        "            with self._lock:\n",
        "                imageBlob = self.Preprocess(cvImage)\n",
        "                probabilities = self._onnxSession.run(None, {\"data\": imageBlob})\n",
        "            \n",
        "            return self.Postprocess(probabilities)\n",
        "\n",
        "        except:\n",
        "            PrintGetExceptionDetails()"
      ],
      "execution_count": null,
      "outputs": []
    },
    {
      "cell_type": "markdown",
      "metadata": {},
      "source": [
        "The `score` method of the inference engine class above will return a dictionary of inferences in the following form:\n",
        "\n",
        "```\n",
        "{\n",
        "    \"type\": \"classification\",\n",
        "    \"classification\": {\n",
        "        \"tag\": {\n",
        "            \"value\": \"llama\",\n",
        "            \"confidence\": 0.1784792137145996\n",
        "        }\n",
        "    }\n",
        "},\n",
        "{\n",
        "    \"type\": \"classification\",\n",
        "    \"classification\": {\n",
        "        \"tag\": {\n",
        "            \"value\": \"gazelle\",\n",
        "            \"confidence\": 0.11214914321899414\n",
        "        }\n",
        "    }\n",
        "},\n",
        "{\n",
        "    \"type\": \"classification\",\n",
        "    \"classification\": {\n",
        "        \"tag\": {\n",
        "            \"value\": \"wallaby, brush kangaroo\",\n",
        "            \"confidence\": 0.10473043441772462\n",
        "        }\n",
        "    }\n",
        "}\n",
        "```"
      ]
    },
    {
      "cell_type": "markdown",
      "metadata": {},
      "source": [
        "## Next Steps\n",
        "If all the code cells above have successfully finished running, return to the Readme page to continue.   "
      ]
    }
  ],
  "metadata": {
    "kernelspec": {
      "name": "python3",
      "display_name": "Python 3",
      "language": "python"
    },
    "language_info": {
      "mimetype": "text/x-python",
      "nbconvert_exporter": "python",
      "name": "python",
      "pygments_lexer": "ipython3",
      "version": "3.8.3-final",
      "file_extension": ".py",
      "codemirror_mode": {
        "version": 3,
        "name": "ipython"
      }
    }
  },
  "nbformat": 4,
  "nbformat_minor": 2
}