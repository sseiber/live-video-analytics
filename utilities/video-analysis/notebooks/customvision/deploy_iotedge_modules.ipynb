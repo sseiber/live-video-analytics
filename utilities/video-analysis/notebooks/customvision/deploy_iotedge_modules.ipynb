{
 "cells": [
  {
   "cell_type": "markdown",
   "metadata": {
    "collapsed": true
   },
   "source": [
    "# Deploy IoT Edge Modules\n",
    "\n",
    "In this section, we will deploy LVA & Inference Server modules (IoT Edge Runtime specific Docker container images) to an IoT Edge device."
   ]
  },
  {
   "cell_type": "markdown",
   "metadata": {},
   "source": [
    "## Setting Up the Deployment Manifest File"
   ]
  },
  {
   "cell_type": "code",
   "execution_count": null,
   "metadata": {},
   "outputs": [],
   "source": [
    "import sys\n",
    "sys.path.append('../common')\n",
    "from env_variables import *\n",
    "set_key(envPath, \"INPUT_VIDEO_FOLDER_ON_DEVICE\", \"/lvafolders/input\")\n",
    "tempVar = set_key(envPath, \"OUTPUT_VIDEO_FOLDER_ON_DEVICE\", \"/lvafolders/output\")"
   ]
  },
  {
   "cell_type": "markdown",
   "metadata": {},
   "source": [
    "## Setting Up Local Folders on the IoT Edge Device\n",
    "Next, we will set up local folders on our IoT Edge device. First, connect to the IoT Edge device by using the SSH connection string. Then, in your terminal window, create the two folders below on the IoT Edge device. You can give these folders any name and create them under any desired root folder. However, the full path must be same in the other parts of this section. Both folders must have read and write access for all users.\n",
    "\n",
    "Run the commands below **on the IoT Edge device** through a terminal window.\n",
    "\n",
    "```\n",
    "sudo mkdir -p /lvafolders/input\n",
    "sudo mkdir /lvafolders/output\n",
    "```\n",
    "\n",
    "Next, set the access permissions for these folders.\n",
    "```\n",
    "sudo chmod 777 -R /lvafolders\n",
    "```\n",
    "\n",
    "Afterwards, in your IoT Edge device's terminal window, run the following command to download the video sample named `truck_video.mkv` into your /lvafolders/input folder. This video sample is a minute-long clip of a parking lot. If you wish to run another video clip, simply move it into the /lvafolders/input folder.\n",
    "\n",
    "```\n",
    "curl https://lvamedia.blob.core.windows.net/public/t2.mkv --output /lvafolders/input/truck_video.mkv\n",
    "```\n",
    "\n",
    "Finally, set the access permissions again for safe measure.  \n",
    "```\n",
    "sudo chmod 777 -R /lvafolders\n",
    "```"
   ]
  },
  {
   "cell_type": "markdown",
   "metadata": {},
   "source": [
    "## Reset the IoT Edge Device and Deploy the LVA & Inference Server Modules\n",
    "\n",
    "Next, we will reset the IoT Edge device by uploading a deployment manifest that consists of only two system modules: IoTHub and IoTEdge.\n",
    "\n",
    "1. Right click on the \"deployment.reset.json\" file  \n",
    "\n",
    "    ![reset deployment](../../../../images/_reset_deployment.jpg)\n",
    "\n",
    "2. Click on \"Create Deployment for Single Device\"  \n",
    "    a. If it is the first time using the IoT Hub service that was created in the previous sections, VSCode will ask you to enter the \"IoT Hub Connection String\". You can use the value of the \"IOT_HUB_CONN_STRING\" key, which can be located in the .env file. This command will open a window on top edge of the VSCode and will ask for the IoT Edge device name that you want to use make this deployment. Since you entered the IoT Hub connection string, it will automatically find names of applicable devices and list them for you. For this section, we only have one Edge device, which we named \"lva-sample-device\" when we defined the variables. Select this device in the drop-down list.\n",
    "\n",
    "    ![select edge device](../../../../images/_select_edge_device.png)\n",
    "\n",
    "    b. If you already have a connected IoT Hub in VS Code Azure IoT Hub service, and would like to switch to a different IoT Hub to deploy LVA, you can click \"More Actions\" on the \"AZURE IOT HUB\" panel, and enter your \"IOT_HUB_CONN_STRING\" key.\n",
    "\n",
    "    ![deployment set iothub](../../../../images/_deployment_set_iothub.png) \n",
    "\n",
    "3. Locate the deployment manifest that you created in previous sections. Note that the name of this file may be different from the one listed below, depending on the sample you are running. Right click on the deployment manifest file. In the pop-up menu, click on \"Generate IoT Edge Deployment Manifest\". In this step, VSCode will auto-read the contents of the .env file and use the values of the variables to write over some placeholder variables inside the file. After these replacements, a new version of the file will be placed under the newly created \"config\" folder in the same working directory. \n",
    "\n",
    "    ![deployment modules](../../../../images/_deployment_modules_3.jpg) \n",
    "\n",
    "4. Right click on the file in the config folder. Note that its name may be different from the one below, depending on the sample you are running. In the pop-up menu, click on \"Create Deployment for Single Device\".  \n",
    "\n",
    "    ![deployment modules](../../../../images/_deployment_modules_4.jpg) \n",
    "    \n",
    "5. Like in step 2, VSCode will ask the device name to where the deployment will be made. Again, select the appropriate device name.\n",
    "\n",
    "6. Depending on your Internet speed, the modules will be pulled from the Cloud and deployed into your Edge device; this process can range from seconds to minutes. In VSCode, refresh the \"AZURE IOT HUB\" panel. You can see the modules that are uploaded on to your Edge device once the refresh is complete.  \n",
    "\n",
    "    ![View iotedge device](../../../../images/_iothub_view.jpg)\n",
    "\n",
    "As in the screen shot above, you should see a status of \"running\" next to each module name (see region 3 in the above screenshot).  \n",
    "\n",
    "Alternatively, you can run the following command in a terminal window on the Iot Edge device:  \n",
    "\n",
    "```\n",
    "sudo iotedge list\n",
    "```\n",
    "\n",
    "The result of the command above will look something similar to the snippet below, with all module statuses saying \"running\".\n",
    "\n",
    "```\n",
    "user@iotedgedevice:~/Desktop/subfolder$ sudo iotedge list\n",
    "[sudo] password for user: \n",
    "NAME             STATUS           DESCRIPTION      CONFIG\n",
    "lvaExtension     running          Up 6 minutes     namecontreg.azurecr.io/nameaimodule:latest\n",
    "edgeAgent        running          Up 7 minutes     mcr.microsoft.com/azureiotedge-agent:1.0\n",
    "edgeHub          running          Up 6 minutes     mcr.microsoft.com/azureiotedge-hub:1.0\n",
    "lvaEdge          running          Up 6 minutes     mcr.microsoft.com/media/live-video-analytics:1\n",
    "rtspsim          running          Up 6 minutes     mcr.microsoft.com/lva-utilities/rtspsim-live555:1.2\n",
    "```"
   ]
  },
  {
   "cell_type": "markdown",
   "metadata": {},
   "source": [
    "## Troubleshooting\n",
    "\n",
    "If any of the modules are not running after a few minutes, you can try the following commands:\n",
    "\n",
    "1) Check IoT Edge\n",
    "\n",
    "```\n",
    "sudo iotedge check \n",
    "```\n",
    "\n",
    "2) Restart IoT Edge and wait a few minutes\n",
    "\n",
    "```\n",
    "sudo systemctl restart iotedge\n",
    "```\n",
    "\n",
    "3) Check the logs of your devices (e.g., lvaExtension, lvaEdge)\n",
    "\n",
    "```\n",
    "sudo iotedge logs <NAME_OF_DEVICE>\n",
    "```\n",
    "\n",
    "These commands are relevant for the following sections as well.\n",
    "\n",
    "If all the modules are running, you have succesfully deployed the modules into the IoT Edge device."
   ]
  },
  {
   "cell_type": "markdown",
   "metadata": {},
   "source": [
    "## Next Steps\n",
    "If all the code cells above have successfully finished running, return to the Readme page to continue.   "
   ]
  }
 ],
 "metadata": {
  "kernelspec": {
   "display_name": "Python 3",
   "language": "python",
   "name": "python3"
  },
  "language_info": {
   "codemirror_mode": {
    "name": "ipython",
    "version": 3
   },
   "file_extension": ".py",
   "mimetype": "text/x-python",
   "name": "python",
   "nbconvert_exporter": "python",
   "pygments_lexer": "ipython3",
   "version": "3.8.3"
  }
 },
 "nbformat": 4,
 "nbformat_minor": 2
}