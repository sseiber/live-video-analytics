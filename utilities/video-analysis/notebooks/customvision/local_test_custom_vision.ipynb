{
 "cells": [
  {
   "cell_type": "markdown",
   "metadata": {},
   "source": [
    "# Test the Docker Container Locally (Optional)\n",
    "\n",
    "Uploading the Docker container onto a Cloud-based container registry may be a long process and bandwidth-intensive. Thus, before upload, we can **optionally** test our image to see if it works fine."
   ]
  },
  {
   "cell_type": "markdown",
   "metadata": {},
   "source": [
    "## Run Docker Container\n",
    "\n",
    "The code snippet below runs our Docker container by mapping the host PC's port 5001.\n",
    "\n",
    "> <span>[!NOTE]</span>\n",
    "> Execution of the below command may take several minutes."
   ]
  },
  {
   "cell_type": "code",
   "execution_count": null,
   "metadata": {},
   "outputs": [],
   "source": [
    "import sys\n",
    "sys.path.append('../common')\n",
    "from env_variables import *"
   ]
  },
  {
   "cell_type": "code",
   "execution_count": null,
   "metadata": {},
   "outputs": [],
   "source": [
    "!docker run --name lvaExtension  -p 8080:80 -d  -i $containerImageName"
   ]
  },
  {
   "cell_type": "markdown",
   "metadata": {},
   "source": [
    "## Send Sample Image\n",
    "\n",
    "Now call the server score endpoint by sending a sample image.\n",
    "> [!IMPORTANT]\n",
    "> Here the sample image size is and must be 416x416 pixels. The result of the code below should be a Json file with inference results like the following.\n",
    "\n",
    "\n",
    "```\n",
    "{\n",
    "  \"type\": \"entity\",\n",
    "  \"entity\": {\n",
    "    \"tag\": {\n",
    "      \"value\": \"delivery truck\",\n",
    "      \"confidence\": \"0.9596136\"\n",
    "    },\n",
    "    \"box\": {\n",
    "      \"l\": \"0.69242793\",\n",
    "      \"t\": \"0.3647236\",\n",
    "      \"w\": \"0.08401036\",\n",
    "      \"h\": \"0.07765585\"\n",
    "    }\n",
    "  }\n",
    "},\n",
    "{\n",
    "  \"type\": \"entity\",\n",
    "  \"entity\": {\n",
    "    \"tag\": {\n",
    "      \"value\": \"delivery truck\",\n",
    "      \"confidence\": \"0.92975134\"\n",
    "    },\n",
    "    \"box\": {\n",
    "      \"l\": \"0.5211431\",\n",
    "      \"t\": \"0.44633362\",\n",
    "      \"w\": \"0.16630614\",\n",
    "      \"h\": \"0.12689856\"\n",
    "    }\n",
    "  }\n",
    "}\n",
    "```"
   ]
  },
  {
   "cell_type": "code",
   "execution_count": null,
   "metadata": {},
   "outputs": [],
   "source": [
    "!curl https://lvamedia.blob.core.windows.net/public/people_in_cafeteria_416x416.jpg > \"sample.jpg\""
   ]
  },
  {
   "cell_type": "code",
   "execution_count": null,
   "metadata": {},
   "outputs": [],
   "source": [
    "!curl -X POST http://127.0.0.1:8080/score -H \"Content-Type: image/jpeg\" --data-binary @sample.jpg "
   ]
  },
  {
   "cell_type": "markdown",
   "metadata": {},
   "source": [
    "## Stop Docker Container\n",
    "Finally, stop the running container and deallocate the resources."
   ]
  },
  {
   "cell_type": "code",
   "execution_count": null,
   "metadata": {},
   "outputs": [],
   "source": [
    "!docker stop lvaExtension"
   ]
  },
  {
   "cell_type": "code",
   "execution_count": null,
   "metadata": {},
   "outputs": [],
   "source": [
    "!docker rm lvaExtension"
   ]
  },
  {
   "cell_type": "markdown",
   "metadata": {},
   "source": [
    "## Next Steps\n",
    "If all the code cells above have successfully finished running, return to the Readme page to continue.   "
   ]
  }
 ],
 "metadata": {
  "language_info": {
   "codemirror_mode": {
    "name": "ipython",
    "version": 3
   },
   "file_extension": ".py",
   "mimetype": "text/x-python",
   "name": "python",
   "nbconvert_exporter": "python",
   "pygments_lexer": "ipython3",
   "version": "3.7.5-final"
  },
  "orig_nbformat": 2,
  "kernelspec": {
   "name": "python37564bit48778587bdfe4116b67b8e502a7fccd9",
   "display_name": "Python 3.7.5 64-bit"
  }
 },
 "nbformat": 4,
 "nbformat_minor": 2
}